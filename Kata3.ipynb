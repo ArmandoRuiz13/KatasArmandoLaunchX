{
 "cells": [
  {
   "cell_type": "markdown",
   "metadata": {},
   "source": [
    "# EJERCICIO ASTEROIDE"
   ]
  },
  {
   "cell_type": "markdown",
   "metadata": {},
   "source": [
    "### LOGICA CONDICIONAL"
   ]
  },
  {
   "cell_type": "code",
   "execution_count": 4,
   "metadata": {},
   "outputs": [
    {
     "name": "stdout",
     "output_type": "stream",
     "text": [
      "Cuidado!! Un asteoride se acerca, y viaja a una velocidad de 49km/s\n"
     ]
    }
   ],
   "source": [
    "asteroide = 49\n",
    "if asteroide > 25:\n",
    "    print('Cuidado!! Un asteoride se acerca, y viaja a una velocidad de ' + str(asteroide) + ' km/s')\n",
    "else:\n",
    "    print('Un asteroide se acerca a la tierra sin peligro')"
   ]
  },
  {
   "cell_type": "markdown",
   "metadata": {},
   "source": [
    "### INSTRUCCIONES IF ELIF ELSE"
   ]
  },
  {
   "cell_type": "code",
   "execution_count": 7,
   "metadata": {},
   "outputs": [
    {
     "name": "stdout",
     "output_type": "stream",
     "text": [
      "No esta pasando nada\n"
     ]
    }
   ],
   "source": [
    "asteroide = 19\n",
    "if asteroide > 20:\n",
    "    print ('Un rayo de luz a la vista!')\n",
    "elif asteroide == 20:\n",
    "    print ('Un rayo de luz a la vista!')\n",
    "else:\n",
    "    print ('No esta pasando nada')"
   ]
  },
  {
   "cell_type": "markdown",
   "metadata": {},
   "source": [
    "### INSTRUCCIONES AND,OR"
   ]
  },
  {
   "cell_type": "code",
   "execution_count": 5,
   "metadata": {},
   "outputs": [
    {
     "name": "stdout",
     "output_type": "stream",
     "text": [
      "Cuidado!! Un asteoride se acerca, y viaja a una velocidad de 26 km/s y un tamano de 40 M \n"
     ]
    }
   ],
   "source": [
    "V_asteroide = 26\n",
    "T_asteroide = 40\n",
    "if V_asteroide > 25 and T_asteroide > 25:\n",
    "    print('Cuidado!! Un asteoride se acerca, y viaja a una velocidad de ' + str(V_asteroide) + ' km/s y un tamano de ' + str(T_asteroide) + ' M ' ) \n",
    "elif V_asteroide >= 20:\n",
    "    print ('Un rayo de luz a la vista!')\n",
    "elif T_asteroide < 25:\n",
    "    print ('No esta pasando nada')\n",
    "else:\n",
    "    print ('No esta pasando nada')\n",
    "    "
   ]
  }
 ],
 "metadata": {
  "interpreter": {
   "hash": "7e5459203f054da0216b660f128b8fa657a96cdaa75d6a4dfd818efb716c98f2"
  },
  "kernelspec": {
   "display_name": "Python 3.10.2 64-bit",
   "language": "python",
   "name": "python3"
  },
  "language_info": {
   "codemirror_mode": {
    "name": "ipython",
    "version": 3
   },
   "file_extension": ".py",
   "mimetype": "text/x-python",
   "name": "python",
   "nbconvert_exporter": "python",
   "pygments_lexer": "ipython3",
   "version": "3.10.2"
  },
  "orig_nbformat": 4
 },
 "nbformat": 4,
 "nbformat_minor": 2
}
